{
 "cells": [
  {
   "cell_type": "markdown",
   "metadata": {},
   "source": [
    "## Twitter Sentimental Analysis\n",
    "This notebook takes you to various steps involved in the Sentimental Analysis of India vs Pakistan cricket match \n",
    "\n",
    "1.Authentication of twitter API \n",
    "\n",
    "2.Scrapping tweets\n",
    "\n",
    "3.EDA of tweets"
   ]
  },
  {
   "cell_type": "code",
   "execution_count": 3,
   "metadata": {},
   "outputs": [],
   "source": [
    "import pandas as pd\n",
    "import numpy as np\n",
    "import matplotlib.pyplot as plt\n",
    "%matplotlib inline\n",
    "import tweepy"
   ]
  },
  {
   "cell_type": "code",
   "execution_count": 4,
   "metadata": {},
   "outputs": [],
   "source": [
    "with open('api.txt','r') as file:\n",
    "    text = file.read().split('\\n')"
   ]
  },
  {
   "cell_type": "code",
   "execution_count": 5,
   "metadata": {
    "scrolled": true
   },
   "outputs": [
    {
     "data": {
      "text/plain": [
       "5"
      ]
     },
     "execution_count": 5,
     "metadata": {},
     "output_type": "execute_result"
    }
   ],
   "source": [
    "len(text)"
   ]
  },
  {
   "cell_type": "markdown",
   "metadata": {},
   "source": [
    "### Authentication"
   ]
  },
  {
   "cell_type": "code",
   "execution_count": 6,
   "metadata": {},
   "outputs": [],
   "source": [
    "#importing the keys for the API\n",
    "consumer_key = text[1].split(' ')[2]\n",
    "consumer_secret =text[2].split(' ')[2]\n",
    "access_token = text[3].split(' ')[2]\n",
    "access_secret = text[4].split(' ')[2]"
   ]
  },
  {
   "cell_type": "code",
   "execution_count": 8,
   "metadata": {},
   "outputs": [],
   "source": [
    "auth = tweepy.OAuthHandler(consumer_key,consumer_secret)\n",
    "auth.set_access_token(access_token,access_secret)\n",
    "api = tweepy.API(auth,wait_on_rate_limit = True)"
   ]
  },
  {
   "cell_type": "markdown",
   "metadata": {},
   "source": [
    "### Scrapping the tweets"
   ]
  },
  {
   "cell_type": "code",
   "execution_count": 9,
   "metadata": {},
   "outputs": [
    {
     "name": "stderr",
     "output_type": "stream",
     "text": [
      "Unexpected parameter: show_user\n",
      "Unexpected parameter: show_user\n",
      "Unexpected parameter: show_user\n",
      "Unexpected parameter: show_user\n",
      "Unexpected parameter: show_user\n",
      "Unexpected parameter: show_user\n",
      "Unexpected parameter: show_user\n",
      "Unexpected parameter: show_user\n",
      "Unexpected parameter: show_user\n",
      "Unexpected parameter: show_user\n",
      "Unexpected parameter: show_user\n",
      "Unexpected parameter: show_user\n",
      "Unexpected parameter: show_user\n",
      "Unexpected parameter: show_user\n",
      "Unexpected parameter: show_user\n",
      "Unexpected parameter: show_user\n",
      "Unexpected parameter: show_user\n",
      "Unexpected parameter: show_user\n",
      "Unexpected parameter: show_user\n",
      "Unexpected parameter: show_user\n",
      "Unexpected parameter: show_user\n",
      "Unexpected parameter: show_user\n",
      "Unexpected parameter: show_user\n",
      "Unexpected parameter: show_user\n",
      "Unexpected parameter: show_user\n",
      "Unexpected parameter: show_user\n",
      "Unexpected parameter: show_user\n",
      "Unexpected parameter: show_user\n",
      "Unexpected parameter: show_user\n",
      "Unexpected parameter: show_user\n",
      "Unexpected parameter: show_user\n",
      "Unexpected parameter: show_user\n",
      "Unexpected parameter: show_user\n",
      "Unexpected parameter: show_user\n",
      "Unexpected parameter: show_user\n",
      "Unexpected parameter: show_user\n",
      "Unexpected parameter: show_user\n",
      "Unexpected parameter: show_user\n",
      "Unexpected parameter: show_user\n",
      "Unexpected parameter: show_user\n",
      "Unexpected parameter: show_user\n",
      "Unexpected parameter: show_user\n",
      "Unexpected parameter: show_user\n",
      "Unexpected parameter: show_user\n",
      "Unexpected parameter: show_user\n"
     ]
    }
   ],
   "source": [
    "cricket_tweets = tweepy.Cursor(api.search_tweets,q=\" IndVsPak OR indvspak OR INDVSPAK OR INDVsPak -filter:retweets\",\n",
    "                                lang = \"en\",show_user = True,tweet_mode = \"extended\").items(1000)\n",
    "cricket_tweets_list = [[tweet.created_at, tweet.place, tweet.user.name,tweet.full_text] for tweet in cricket_tweets]\n"
   ]
  },
  {
   "cell_type": "code",
   "execution_count": 10,
   "metadata": {},
   "outputs": [
    {
     "name": "stdout",
     "output_type": "stream",
     "text": [
      "656\n"
     ]
    }
   ],
   "source": [
    "print(len(cricket_tweets_list))"
   ]
  },
  {
   "cell_type": "code",
   "execution_count": 11,
   "metadata": {
    "scrolled": true
   },
   "outputs": [
    {
     "data": {
      "text/plain": [
       "[datetime.datetime(2021, 11, 12, 15, 37, 15, tzinfo=datetime.timezone.utc),\n",
       " None,\n",
       " 'Vishant Mittal',\n",
       " '(in my best chadwick baseman voice)Get this man @MatthewWade13 an IPL contract #PAKVSAUS#INDVSPAK#IPL#BCCI#INDIA#AUSTRAILIA']"
      ]
     },
     "execution_count": 11,
     "metadata": {},
     "output_type": "execute_result"
    }
   ],
   "source": [
    "cricket_tweets_list[0]"
   ]
  },
  {
   "cell_type": "markdown",
   "metadata": {},
   "source": [
    "### Converting the scrapped tweets into a dataframe"
   ]
  },
  {
   "cell_type": "code",
   "execution_count": 12,
   "metadata": {},
   "outputs": [
    {
     "data": {
      "text/html": [
       "<div>\n",
       "<style scoped>\n",
       "    .dataframe tbody tr th:only-of-type {\n",
       "        vertical-align: middle;\n",
       "    }\n",
       "\n",
       "    .dataframe tbody tr th {\n",
       "        vertical-align: top;\n",
       "    }\n",
       "\n",
       "    .dataframe thead th {\n",
       "        text-align: right;\n",
       "    }\n",
       "</style>\n",
       "<table border=\"1\" class=\"dataframe\">\n",
       "  <thead>\n",
       "    <tr style=\"text-align: right;\">\n",
       "      <th></th>\n",
       "      <th>0</th>\n",
       "      <th>1</th>\n",
       "      <th>2</th>\n",
       "      <th>3</th>\n",
       "    </tr>\n",
       "  </thead>\n",
       "  <tbody>\n",
       "    <tr>\n",
       "      <td>0</td>\n",
       "      <td>2021-11-12 15:37:15+00:00</td>\n",
       "      <td>None</td>\n",
       "      <td>Vishant Mittal</td>\n",
       "      <td>(in my best chadwick baseman voice)Get this ma...</td>\n",
       "    </tr>\n",
       "    <tr>\n",
       "      <td>1</td>\n",
       "      <td>2021-11-12 15:23:16+00:00</td>\n",
       "      <td>None</td>\n",
       "      <td>FirstSportz</td>\n",
       "      <td>India v Pakistan on 3️⃣1️⃣st July 🇮🇳🔥\\n\\n#Indi...</td>\n",
       "    </tr>\n",
       "    <tr>\n",
       "      <td>2</td>\n",
       "      <td>2021-11-12 14:45:16+00:00</td>\n",
       "      <td>None</td>\n",
       "      <td>Samiya Javaid</td>\n",
       "      <td>#PAKVSAUS #ShaheenShahAfridi #Hasan_Ali #Babar...</td>\n",
       "    </tr>\n",
       "    <tr>\n",
       "      <td>3</td>\n",
       "      <td>2021-11-12 14:24:58+00:00</td>\n",
       "      <td>None</td>\n",
       "      <td>ShruTim Paine 🇦🇺</td>\n",
       "      <td>@CricCrazyJohns @cricketpun_duh @Carpo34 Just ...</td>\n",
       "    </tr>\n",
       "    <tr>\n",
       "      <td>4</td>\n",
       "      <td>2021-11-12 14:18:58+00:00</td>\n",
       "      <td>None</td>\n",
       "      <td>rakesh murthy</td>\n",
       "      <td>@iramizraja are you still busy adding zeroes i...</td>\n",
       "    </tr>\n",
       "  </tbody>\n",
       "</table>\n",
       "</div>"
      ],
      "text/plain": [
       "                          0     1                 2  \\\n",
       "0 2021-11-12 15:37:15+00:00  None    Vishant Mittal   \n",
       "1 2021-11-12 15:23:16+00:00  None       FirstSportz   \n",
       "2 2021-11-12 14:45:16+00:00  None     Samiya Javaid   \n",
       "3 2021-11-12 14:24:58+00:00  None  ShruTim Paine 🇦🇺   \n",
       "4 2021-11-12 14:18:58+00:00  None     rakesh murthy   \n",
       "\n",
       "                                                   3  \n",
       "0  (in my best chadwick baseman voice)Get this ma...  \n",
       "1  India v Pakistan on 3️⃣1️⃣st July 🇮🇳🔥\\n\\n#Indi...  \n",
       "2  #PAKVSAUS #ShaheenShahAfridi #Hasan_Ali #Babar...  \n",
       "3  @CricCrazyJohns @cricketpun_duh @Carpo34 Just ...  \n",
       "4  @iramizraja are you still busy adding zeroes i...  "
      ]
     },
     "execution_count": 12,
     "metadata": {},
     "output_type": "execute_result"
    }
   ],
   "source": [
    "tweets_df = pd.DataFrame(cricket_tweets_list)\n",
    "tweets_df.head()"
   ]
  },
  {
   "cell_type": "code",
   "execution_count": 13,
   "metadata": {
    "scrolled": true
   },
   "outputs": [
    {
     "data": {
      "text/html": [
       "<div>\n",
       "<style scoped>\n",
       "    .dataframe tbody tr th:only-of-type {\n",
       "        vertical-align: middle;\n",
       "    }\n",
       "\n",
       "    .dataframe tbody tr th {\n",
       "        vertical-align: top;\n",
       "    }\n",
       "\n",
       "    .dataframe thead th {\n",
       "        text-align: right;\n",
       "    }\n",
       "</style>\n",
       "<table border=\"1\" class=\"dataframe\">\n",
       "  <thead>\n",
       "    <tr style=\"text-align: right;\">\n",
       "      <th></th>\n",
       "      <th>Created_at</th>\n",
       "      <th>Place</th>\n",
       "      <th>User</th>\n",
       "      <th>Text</th>\n",
       "    </tr>\n",
       "  </thead>\n",
       "  <tbody>\n",
       "    <tr>\n",
       "      <td>0</td>\n",
       "      <td>2021-11-12 15:37:15+00:00</td>\n",
       "      <td>None</td>\n",
       "      <td>Vishant Mittal</td>\n",
       "      <td>(in my best chadwick baseman voice)Get this ma...</td>\n",
       "    </tr>\n",
       "    <tr>\n",
       "      <td>1</td>\n",
       "      <td>2021-11-12 15:23:16+00:00</td>\n",
       "      <td>None</td>\n",
       "      <td>FirstSportz</td>\n",
       "      <td>India v Pakistan on 3️⃣1️⃣st July 🇮🇳🔥\\n\\n#Indi...</td>\n",
       "    </tr>\n",
       "    <tr>\n",
       "      <td>2</td>\n",
       "      <td>2021-11-12 14:45:16+00:00</td>\n",
       "      <td>None</td>\n",
       "      <td>Samiya Javaid</td>\n",
       "      <td>#PAKVSAUS #ShaheenShahAfridi #Hasan_Ali #Babar...</td>\n",
       "    </tr>\n",
       "    <tr>\n",
       "      <td>3</td>\n",
       "      <td>2021-11-12 14:24:58+00:00</td>\n",
       "      <td>None</td>\n",
       "      <td>ShruTim Paine 🇦🇺</td>\n",
       "      <td>@CricCrazyJohns @cricketpun_duh @Carpo34 Just ...</td>\n",
       "    </tr>\n",
       "    <tr>\n",
       "      <td>4</td>\n",
       "      <td>2021-11-12 14:18:58+00:00</td>\n",
       "      <td>None</td>\n",
       "      <td>rakesh murthy</td>\n",
       "      <td>@iramizraja are you still busy adding zeroes i...</td>\n",
       "    </tr>\n",
       "  </tbody>\n",
       "</table>\n",
       "</div>"
      ],
      "text/plain": [
       "                 Created_at Place              User  \\\n",
       "0 2021-11-12 15:37:15+00:00  None    Vishant Mittal   \n",
       "1 2021-11-12 15:23:16+00:00  None       FirstSportz   \n",
       "2 2021-11-12 14:45:16+00:00  None     Samiya Javaid   \n",
       "3 2021-11-12 14:24:58+00:00  None  ShruTim Paine 🇦🇺   \n",
       "4 2021-11-12 14:18:58+00:00  None     rakesh murthy   \n",
       "\n",
       "                                                Text  \n",
       "0  (in my best chadwick baseman voice)Get this ma...  \n",
       "1  India v Pakistan on 3️⃣1️⃣st July 🇮🇳🔥\\n\\n#Indi...  \n",
       "2  #PAKVSAUS #ShaheenShahAfridi #Hasan_Ali #Babar...  \n",
       "3  @CricCrazyJohns @cricketpun_duh @Carpo34 Just ...  \n",
       "4  @iramizraja are you still busy adding zeroes i...  "
      ]
     },
     "execution_count": 13,
     "metadata": {},
     "output_type": "execute_result"
    }
   ],
   "source": [
    "tweets_df.columns = ['Created_at','Place','User','Text']\n",
    "tweets_df.head()"
   ]
  },
  {
   "cell_type": "markdown",
   "metadata": {},
   "source": [
    "### Saving as csv"
   ]
  },
  {
   "cell_type": "code",
   "execution_count": 14,
   "metadata": {},
   "outputs": [],
   "source": [
    "tweets_df.to_csv('tweets.csv',index= False)"
   ]
  },
  {
   "cell_type": "markdown",
   "metadata": {},
   "source": [
    "### Hashtag analysis\n"
   ]
  },
  {
   "cell_type": "code",
   "execution_count": 15,
   "metadata": {},
   "outputs": [],
   "source": [
    "import re\n",
    "\n",
    "def find_hashtags(tweet):\n",
    "    return re.findall('(#[A-Za-z]+[A-Za-z0-9-_]+)', tweet)\n",
    "                      \n",
    "tweets_df['hashtags']= tweets_df.Text.apply(find_hashtags)"
   ]
  },
  {
   "cell_type": "code",
   "execution_count": 16,
   "metadata": {
    "scrolled": true
   },
   "outputs": [
    {
     "data": {
      "text/html": [
       "<div>\n",
       "<style scoped>\n",
       "    .dataframe tbody tr th:only-of-type {\n",
       "        vertical-align: middle;\n",
       "    }\n",
       "\n",
       "    .dataframe tbody tr th {\n",
       "        vertical-align: top;\n",
       "    }\n",
       "\n",
       "    .dataframe thead th {\n",
       "        text-align: right;\n",
       "    }\n",
       "</style>\n",
       "<table border=\"1\" class=\"dataframe\">\n",
       "  <thead>\n",
       "    <tr style=\"text-align: right;\">\n",
       "      <th></th>\n",
       "      <th>Created_at</th>\n",
       "      <th>Place</th>\n",
       "      <th>User</th>\n",
       "      <th>Text</th>\n",
       "      <th>hashtags</th>\n",
       "    </tr>\n",
       "  </thead>\n",
       "  <tbody>\n",
       "    <tr>\n",
       "      <td>0</td>\n",
       "      <td>2021-11-12 15:37:15+00:00</td>\n",
       "      <td>None</td>\n",
       "      <td>Vishant Mittal</td>\n",
       "      <td>(in my best chadwick baseman voice)Get this ma...</td>\n",
       "      <td>[#PAKVSAUS, #INDVSPAK, #IPL, #BCCI, #INDIA, #A...</td>\n",
       "    </tr>\n",
       "    <tr>\n",
       "      <td>1</td>\n",
       "      <td>2021-11-12 15:23:16+00:00</td>\n",
       "      <td>None</td>\n",
       "      <td>FirstSportz</td>\n",
       "      <td>India v Pakistan on 3️⃣1️⃣st July 🇮🇳🔥\\n\\n#Indi...</td>\n",
       "      <td>[#India, #Pakistan, #IndVsPak, #Commonwealth, ...</td>\n",
       "    </tr>\n",
       "    <tr>\n",
       "      <td>2</td>\n",
       "      <td>2021-11-12 14:45:16+00:00</td>\n",
       "      <td>None</td>\n",
       "      <td>Samiya Javaid</td>\n",
       "      <td>#PAKVSAUS #ShaheenShahAfridi #Hasan_Ali #Babar...</td>\n",
       "      <td>[#PAKVSAUS, #ShaheenShahAfridi, #Hasan_Ali, #B...</td>\n",
       "    </tr>\n",
       "    <tr>\n",
       "      <td>3</td>\n",
       "      <td>2021-11-12 14:24:58+00:00</td>\n",
       "      <td>None</td>\n",
       "      <td>ShruTim Paine 🇦🇺</td>\n",
       "      <td>@CricCrazyJohns @cricketpun_duh @Carpo34 Just ...</td>\n",
       "      <td>[]</td>\n",
       "    </tr>\n",
       "    <tr>\n",
       "      <td>4</td>\n",
       "      <td>2021-11-12 14:18:58+00:00</td>\n",
       "      <td>None</td>\n",
       "      <td>rakesh murthy</td>\n",
       "      <td>@iramizraja are you still busy adding zeroes i...</td>\n",
       "      <td>[#IndVsPak, #PAKVSAUS, #T20WorldCup2021, #Worl...</td>\n",
       "    </tr>\n",
       "  </tbody>\n",
       "</table>\n",
       "</div>"
      ],
      "text/plain": [
       "                 Created_at Place              User  \\\n",
       "0 2021-11-12 15:37:15+00:00  None    Vishant Mittal   \n",
       "1 2021-11-12 15:23:16+00:00  None       FirstSportz   \n",
       "2 2021-11-12 14:45:16+00:00  None     Samiya Javaid   \n",
       "3 2021-11-12 14:24:58+00:00  None  ShruTim Paine 🇦🇺   \n",
       "4 2021-11-12 14:18:58+00:00  None     rakesh murthy   \n",
       "\n",
       "                                                Text  \\\n",
       "0  (in my best chadwick baseman voice)Get this ma...   \n",
       "1  India v Pakistan on 3️⃣1️⃣st July 🇮🇳🔥\\n\\n#Indi...   \n",
       "2  #PAKVSAUS #ShaheenShahAfridi #Hasan_Ali #Babar...   \n",
       "3  @CricCrazyJohns @cricketpun_duh @Carpo34 Just ...   \n",
       "4  @iramizraja are you still busy adding zeroes i...   \n",
       "\n",
       "                                            hashtags  \n",
       "0  [#PAKVSAUS, #INDVSPAK, #IPL, #BCCI, #INDIA, #A...  \n",
       "1  [#India, #Pakistan, #IndVsPak, #Commonwealth, ...  \n",
       "2  [#PAKVSAUS, #ShaheenShahAfridi, #Hasan_Ali, #B...  \n",
       "3                                                 []  \n",
       "4  [#IndVsPak, #PAKVSAUS, #T20WorldCup2021, #Worl...  "
      ]
     },
     "execution_count": 16,
     "metadata": {},
     "output_type": "execute_result"
    }
   ],
   "source": [
    "tweets_df.head()"
   ]
  },
  {
   "cell_type": "code",
   "execution_count": 17,
   "metadata": {},
   "outputs": [
    {
     "data": {
      "text/plain": [
       "['#PAKVSAUS',\n",
       " '#ShaheenShahAfridi',\n",
       " '#Hasan_Ali',\n",
       " '#BabarAzam',\n",
       " '#T20WorldCup',\n",
       " '#India',\n",
       " '#IndiaVsPak',\n",
       " '#Indian',\n",
       " '#IndVsPak']"
      ]
     },
     "execution_count": 17,
     "metadata": {},
     "output_type": "execute_result"
    }
   ],
   "source": [
    "tweets_df.hashtags[2]"
   ]
  },
  {
   "cell_type": "code",
   "execution_count": 18,
   "metadata": {
    "scrolled": true
   },
   "outputs": [
    {
     "data": {
      "text/plain": [
       "0      [#PAKVSAUS, #INDVSPAK, #IPL, #BCCI, #INDIA, #A...\n",
       "1      [#India, #Pakistan, #IndVsPak, #Commonwealth, ...\n",
       "2      [#PAKVSAUS, #ShaheenShahAfridi, #Hasan_Ali, #B...\n",
       "3                                                     []\n",
       "4      [#IndVsPak, #PAKVSAUS, #T20WorldCup2021, #Worl...\n",
       "                             ...                        \n",
       "651                                          [#INDvsPAK]\n",
       "652                     [#gaddar, #TeamIndia, #IndvsPak]\n",
       "653                               [#IndvsPak, #AFGVSIND]\n",
       "654                                          [#IndVsPak]\n",
       "655                                     [#WhatAComeback]\n",
       "Name: hashtags, Length: 656, dtype: object"
      ]
     },
     "execution_count": 18,
     "metadata": {},
     "output_type": "execute_result"
    }
   ],
   "source": [
    "tweets_df.hashtags"
   ]
  },
  {
   "cell_type": "code",
   "execution_count": 19,
   "metadata": {
    "scrolled": true
   },
   "outputs": [
    {
     "data": {
      "text/plain": [
       "(2230, 1)"
      ]
     },
     "execution_count": 19,
     "metadata": {},
     "output_type": "execute_result"
    }
   ],
   "source": [
    "hashtag_list = tweets_df['hashtags'].to_list()\n",
    "flat_hashtags_df = pd.DataFrame([item for sublist in hashtag_list for item in sublist])\n",
    "flat_hashtags_df.shape"
   ]
  },
  {
   "cell_type": "code",
   "execution_count": 20,
   "metadata": {
    "scrolled": true
   },
   "outputs": [
    {
     "data": {
      "text/html": [
       "<div>\n",
       "<style scoped>\n",
       "    .dataframe tbody tr th:only-of-type {\n",
       "        vertical-align: middle;\n",
       "    }\n",
       "\n",
       "    .dataframe tbody tr th {\n",
       "        vertical-align: top;\n",
       "    }\n",
       "\n",
       "    .dataframe thead th {\n",
       "        text-align: right;\n",
       "    }\n",
       "</style>\n",
       "<table border=\"1\" class=\"dataframe\">\n",
       "  <thead>\n",
       "    <tr style=\"text-align: right;\">\n",
       "      <th></th>\n",
       "      <th>0</th>\n",
       "    </tr>\n",
       "  </thead>\n",
       "  <tbody>\n",
       "    <tr>\n",
       "      <td>0</td>\n",
       "      <td>#PAKVSAUS</td>\n",
       "    </tr>\n",
       "    <tr>\n",
       "      <td>1</td>\n",
       "      <td>#INDVSPAK</td>\n",
       "    </tr>\n",
       "    <tr>\n",
       "      <td>2</td>\n",
       "      <td>#IPL</td>\n",
       "    </tr>\n",
       "    <tr>\n",
       "      <td>3</td>\n",
       "      <td>#BCCI</td>\n",
       "    </tr>\n",
       "    <tr>\n",
       "      <td>4</td>\n",
       "      <td>#INDIA</td>\n",
       "    </tr>\n",
       "  </tbody>\n",
       "</table>\n",
       "</div>"
      ],
      "text/plain": [
       "           0\n",
       "0  #PAKVSAUS\n",
       "1  #INDVSPAK\n",
       "2       #IPL\n",
       "3      #BCCI\n",
       "4     #INDIA"
      ]
     },
     "execution_count": 20,
     "metadata": {},
     "output_type": "execute_result"
    }
   ],
   "source": [
    "flat_hashtags_df[:5]"
   ]
  },
  {
   "cell_type": "code",
   "execution_count": 27,
   "metadata": {},
   "outputs": [],
   "source": [
    "flat_hashtags_df.columns =['hashtags']"
   ]
  },
  {
   "cell_type": "code",
   "execution_count": 24,
   "metadata": {
    "scrolled": false
   },
   "outputs": [
    {
     "name": "stdout",
     "output_type": "stream",
     "text": [
      "Total Hashtags 2230\n"
     ]
    }
   ],
   "source": [
    "print(\"Total Hashtags\",len(flat_hashtags_df))\n"
   ]
  },
  {
   "cell_type": "code",
   "execution_count": 30,
   "metadata": {
    "scrolled": true
   },
   "outputs": [
    {
     "name": "stdout",
     "output_type": "stream",
     "text": [
      "Repeated Hashtags 556\n"
     ]
    }
   ],
   "source": [
    "print(\"Repeated Hashtags\", len(flat_hashtags_df['hashtags'].unique()))"
   ]
  },
  {
   "cell_type": "markdown",
   "metadata": {},
   "source": [
    "### Plot of 20 most popular hashtags"
   ]
  },
  {
   "cell_type": "code",
   "execution_count": 31,
   "metadata": {
    "scrolled": true
   },
   "outputs": [
    {
     "data": {
      "text/plain": [
       "<matplotlib.axes._subplots.AxesSubplot at 0x211d467dc48>"
      ]
     },
     "execution_count": 31,
     "metadata": {},
     "output_type": "execute_result"
    },
    {
     "data": {
      "image/png": "[encoded data removed]",
      "text/plain": [
       "<Figure size 432x288 with 1 Axes>"
      ]
     },
     "metadata": {
      "needs_background": "light"
     },
     "output_type": "display_data"
    }
   ],
   "source": [
    "\n",
    "flat_hashtags_df['hashtags'].value_counts()[:20].plot(kind='barh')"
   ]
  },
  {
   "cell_type": "markdown",
   "metadata": {},
   "source": [
    "### Cleaning the tweets for further analysis"
   ]
  },
  {
   "cell_type": "code",
   "execution_count": 32,
   "metadata": {},
   "outputs": [],
   "source": [
    "#define a function to clean up the tweets. input - text field of all #the rows, output - cleaned text \n",
    "def cleanUpTweet(txt):\n",
    "    # Remove mentions\n",
    "    txt = re.sub(r'@[A-Za-z0-9_]+', '', txt)\n",
    "    # Remove hashtags\n",
    "    txt = re.sub(r'#[A-Za-z0-9_]+', '', txt)\n",
    "    # Remove retweets:\n",
    "    txt = re.sub(r'RT : ', '', txt)\n",
    "    # Remove urls\n",
    "    txt = re.sub(r'https?:\\/\\/[A-Za-z0-9\\.\\/]+', '', txt)\n",
    "    #remove amp\n",
    "    txt = re.sub(r'&amp;', '', txt)\n",
    "    #rempve strange characters\n",
    "    txt = re.sub(r'ðŸ™', '', txt)\n",
    "    #remove new lines\n",
    "    txt = re.sub(r'\\n', ' ', txt)\n",
    "    return txt\n",
    "tweets_df['Cleaned_Text'] = tweets_df['Text'].apply(cleanUpTweet)"
   ]
  },
  {
   "cell_type": "code",
   "execution_count": 33,
   "metadata": {
    "scrolled": true
   },
   "outputs": [
    {
     "data": {
      "text/html": [
       "<div>\n",
       "<style scoped>\n",
       "    .dataframe tbody tr th:only-of-type {\n",
       "        vertical-align: middle;\n",
       "    }\n",
       "\n",
       "    .dataframe tbody tr th {\n",
       "        vertical-align: top;\n",
       "    }\n",
       "\n",
       "    .dataframe thead th {\n",
       "        text-align: right;\n",
       "    }\n",
       "</style>\n",
       "<table border=\"1\" class=\"dataframe\">\n",
       "  <thead>\n",
       "    <tr style=\"text-align: right;\">\n",
       "      <th></th>\n",
       "      <th>Created_at</th>\n",
       "      <th>Place</th>\n",
       "      <th>User</th>\n",
       "      <th>Text</th>\n",
       "      <th>hashtags</th>\n",
       "      <th>Cleaned_Text</th>\n",
       "    </tr>\n",
       "  </thead>\n",
       "  <tbody>\n",
       "    <tr>\n",
       "      <td>0</td>\n",
       "      <td>2021-11-12 15:37:15+00:00</td>\n",
       "      <td>None</td>\n",
       "      <td>Vishant Mittal</td>\n",
       "      <td>(in my best chadwick baseman voice)Get this ma...</td>\n",
       "      <td>[#PAKVSAUS, #INDVSPAK, #IPL, #BCCI, #INDIA, #A...</td>\n",
       "      <td>(in my best chadwick baseman voice)Get this ma...</td>\n",
       "    </tr>\n",
       "    <tr>\n",
       "      <td>1</td>\n",
       "      <td>2021-11-12 15:23:16+00:00</td>\n",
       "      <td>None</td>\n",
       "      <td>FirstSportz</td>\n",
       "      <td>India v Pakistan on 3️⃣1️⃣st July 🇮🇳🔥\\n\\n#Indi...</td>\n",
       "      <td>[#India, #Pakistan, #IndVsPak, #Commonwealth, ...</td>\n",
       "      <td>India v Pakistan on 3️⃣1️⃣st July 🇮🇳🔥</td>\n",
       "    </tr>\n",
       "    <tr>\n",
       "      <td>2</td>\n",
       "      <td>2021-11-12 14:45:16+00:00</td>\n",
       "      <td>None</td>\n",
       "      <td>Samiya Javaid</td>\n",
       "      <td>#PAKVSAUS #ShaheenShahAfridi #Hasan_Ali #Babar...</td>\n",
       "      <td>[#PAKVSAUS, #ShaheenShahAfridi, #Hasan_Ali, #B...</td>\n",
       "      <td>To All Haters. To every nonsense  trol...</td>\n",
       "    </tr>\n",
       "    <tr>\n",
       "      <td>3</td>\n",
       "      <td>2021-11-12 14:24:58+00:00</td>\n",
       "      <td>None</td>\n",
       "      <td>ShruTim Paine 🇦🇺</td>\n",
       "      <td>@CricCrazyJohns @cricketpun_duh @Carpo34 Just ...</td>\n",
       "      <td>[]</td>\n",
       "      <td>Just out of curiosity, which team were you ...</td>\n",
       "    </tr>\n",
       "    <tr>\n",
       "      <td>4</td>\n",
       "      <td>2021-11-12 14:18:58+00:00</td>\n",
       "      <td>None</td>\n",
       "      <td>rakesh murthy</td>\n",
       "      <td>@iramizraja are you still busy adding zeroes i...</td>\n",
       "      <td>[#IndVsPak, #PAKVSAUS, #T20WorldCup2021, #Worl...</td>\n",
       "      <td>are you still busy adding zeroes in that Blan...</td>\n",
       "    </tr>\n",
       "  </tbody>\n",
       "</table>\n",
       "</div>"
      ],
      "text/plain": [
       "                 Created_at Place              User  \\\n",
       "0 2021-11-12 15:37:15+00:00  None    Vishant Mittal   \n",
       "1 2021-11-12 15:23:16+00:00  None       FirstSportz   \n",
       "2 2021-11-12 14:45:16+00:00  None     Samiya Javaid   \n",
       "3 2021-11-12 14:24:58+00:00  None  ShruTim Paine 🇦🇺   \n",
       "4 2021-11-12 14:18:58+00:00  None     rakesh murthy   \n",
       "\n",
       "                                                Text  \\\n",
       "0  (in my best chadwick baseman voice)Get this ma...   \n",
       "1  India v Pakistan on 3️⃣1️⃣st July 🇮🇳🔥\\n\\n#Indi...   \n",
       "2  #PAKVSAUS #ShaheenShahAfridi #Hasan_Ali #Babar...   \n",
       "3  @CricCrazyJohns @cricketpun_duh @Carpo34 Just ...   \n",
       "4  @iramizraja are you still busy adding zeroes i...   \n",
       "\n",
       "                                            hashtags  \\\n",
       "0  [#PAKVSAUS, #INDVSPAK, #IPL, #BCCI, #INDIA, #A...   \n",
       "1  [#India, #Pakistan, #IndVsPak, #Commonwealth, ...   \n",
       "2  [#PAKVSAUS, #ShaheenShahAfridi, #Hasan_Ali, #B...   \n",
       "3                                                 []   \n",
       "4  [#IndVsPak, #PAKVSAUS, #T20WorldCup2021, #Worl...   \n",
       "\n",
       "                                        Cleaned_Text  \n",
       "0  (in my best chadwick baseman voice)Get this ma...  \n",
       "1       India v Pakistan on 3️⃣1️⃣st July 🇮🇳🔥         \n",
       "2          To All Haters. To every nonsense  trol...  \n",
       "3     Just out of curiosity, which team were you ...  \n",
       "4   are you still busy adding zeroes in that Blan...  "
      ]
     },
     "execution_count": 33,
     "metadata": {},
     "output_type": "execute_result"
    }
   ],
   "source": [
    "tweets_df.head()"
   ]
  },
  {
   "cell_type": "code",
   "execution_count": 34,
   "metadata": {},
   "outputs": [],
   "source": [
    "tweets_df['text_len'] = tweets_df['Text'].astype(str).apply(len)\n",
    "tweets_df['word_count'] = tweets_df['Text'].apply(lambda x:len(str(x).split()))"
   ]
  },
  {
   "cell_type": "code",
   "execution_count": 35,
   "metadata": {
    "scrolled": true
   },
   "outputs": [
    {
     "data": {
      "text/html": [
       "<div>\n",
       "<style scoped>\n",
       "    .dataframe tbody tr th:only-of-type {\n",
       "        vertical-align: middle;\n",
       "    }\n",
       "\n",
       "    .dataframe tbody tr th {\n",
       "        vertical-align: top;\n",
       "    }\n",
       "\n",
       "    .dataframe thead th {\n",
       "        text-align: right;\n",
       "    }\n",
       "</style>\n",
       "<table border=\"1\" class=\"dataframe\">\n",
       "  <thead>\n",
       "    <tr style=\"text-align: right;\">\n",
       "      <th></th>\n",
       "      <th>Created_at</th>\n",
       "      <th>Place</th>\n",
       "      <th>User</th>\n",
       "      <th>Text</th>\n",
       "      <th>hashtags</th>\n",
       "      <th>Cleaned_Text</th>\n",
       "      <th>text_len</th>\n",
       "      <th>word_count</th>\n",
       "    </tr>\n",
       "  </thead>\n",
       "  <tbody>\n",
       "    <tr>\n",
       "      <td>0</td>\n",
       "      <td>2021-11-12 15:37:15+00:00</td>\n",
       "      <td>None</td>\n",
       "      <td>Vishant Mittal</td>\n",
       "      <td>(in my best chadwick baseman voice)Get this ma...</td>\n",
       "      <td>[#PAKVSAUS, #INDVSPAK, #IPL, #BCCI, #INDIA, #A...</td>\n",
       "      <td>(in my best chadwick baseman voice)Get this ma...</td>\n",
       "      <td>123</td>\n",
       "      <td>13</td>\n",
       "    </tr>\n",
       "    <tr>\n",
       "      <td>1</td>\n",
       "      <td>2021-11-12 15:23:16+00:00</td>\n",
       "      <td>None</td>\n",
       "      <td>FirstSportz</td>\n",
       "      <td>India v Pakistan on 3️⃣1️⃣st July 🇮🇳🔥\\n\\n#Indi...</td>\n",
       "      <td>[#India, #Pakistan, #IndVsPak, #Commonwealth, ...</td>\n",
       "      <td>India v Pakistan on 3️⃣1️⃣st July 🇮🇳🔥</td>\n",
       "      <td>119</td>\n",
       "      <td>13</td>\n",
       "    </tr>\n",
       "    <tr>\n",
       "      <td>2</td>\n",
       "      <td>2021-11-12 14:45:16+00:00</td>\n",
       "      <td>None</td>\n",
       "      <td>Samiya Javaid</td>\n",
       "      <td>#PAKVSAUS #ShaheenShahAfridi #Hasan_Ali #Babar...</td>\n",
       "      <td>[#PAKVSAUS, #ShaheenShahAfridi, #Hasan_Ali, #B...</td>\n",
       "      <td>To All Haters. To every nonsense  trol...</td>\n",
       "      <td>195</td>\n",
       "      <td>22</td>\n",
       "    </tr>\n",
       "    <tr>\n",
       "      <td>3</td>\n",
       "      <td>2021-11-12 14:24:58+00:00</td>\n",
       "      <td>None</td>\n",
       "      <td>ShruTim Paine 🇦🇺</td>\n",
       "      <td>@CricCrazyJohns @cricketpun_duh @Carpo34 Just ...</td>\n",
       "      <td>[]</td>\n",
       "      <td>Just out of curiosity, which team were you ...</td>\n",
       "      <td>131</td>\n",
       "      <td>15</td>\n",
       "    </tr>\n",
       "    <tr>\n",
       "      <td>4</td>\n",
       "      <td>2021-11-12 14:18:58+00:00</td>\n",
       "      <td>None</td>\n",
       "      <td>rakesh murthy</td>\n",
       "      <td>@iramizraja are you still busy adding zeroes i...</td>\n",
       "      <td>[#IndVsPak, #PAKVSAUS, #T20WorldCup2021, #Worl...</td>\n",
       "      <td>are you still busy adding zeroes in that Blan...</td>\n",
       "      <td>119</td>\n",
       "      <td>16</td>\n",
       "    </tr>\n",
       "  </tbody>\n",
       "</table>\n",
       "</div>"
      ],
      "text/plain": [
       "                 Created_at Place              User  \\\n",
       "0 2021-11-12 15:37:15+00:00  None    Vishant Mittal   \n",
       "1 2021-11-12 15:23:16+00:00  None       FirstSportz   \n",
       "2 2021-11-12 14:45:16+00:00  None     Samiya Javaid   \n",
       "3 2021-11-12 14:24:58+00:00  None  ShruTim Paine 🇦🇺   \n",
       "4 2021-11-12 14:18:58+00:00  None     rakesh murthy   \n",
       "\n",
       "                                                Text  \\\n",
       "0  (in my best chadwick baseman voice)Get this ma...   \n",
       "1  India v Pakistan on 3️⃣1️⃣st July 🇮🇳🔥\\n\\n#Indi...   \n",
       "2  #PAKVSAUS #ShaheenShahAfridi #Hasan_Ali #Babar...   \n",
       "3  @CricCrazyJohns @cricketpun_duh @Carpo34 Just ...   \n",
       "4  @iramizraja are you still busy adding zeroes i...   \n",
       "\n",
       "                                            hashtags  \\\n",
       "0  [#PAKVSAUS, #INDVSPAK, #IPL, #BCCI, #INDIA, #A...   \n",
       "1  [#India, #Pakistan, #IndVsPak, #Commonwealth, ...   \n",
       "2  [#PAKVSAUS, #ShaheenShahAfridi, #Hasan_Ali, #B...   \n",
       "3                                                 []   \n",
       "4  [#IndVsPak, #PAKVSAUS, #T20WorldCup2021, #Worl...   \n",
       "\n",
       "                                        Cleaned_Text  text_len  word_count  \n",
       "0  (in my best chadwick baseman voice)Get this ma...       123          13  \n",
       "1       India v Pakistan on 3️⃣1️⃣st July 🇮🇳🔥              119          13  \n",
       "2          To All Haters. To every nonsense  trol...       195          22  \n",
       "3     Just out of curiosity, which team were you ...       131          15  \n",
       "4   are you still busy adding zeroes in that Blan...       119          16  "
      ]
     },
     "execution_count": 35,
     "metadata": {},
     "output_type": "execute_result"
    }
   ],
   "source": [
    "tweets_df.head()"
   ]
  },
  {
   "cell_type": "code",
   "execution_count": 36,
   "metadata": {},
   "outputs": [
    {
     "data": {
      "text/plain": [
       "(420, 24, 176)"
      ]
     },
     "execution_count": 36,
     "metadata": {},
     "output_type": "execute_result"
    }
   ],
   "source": [
    "tweets_df['text_len'].max(),tweets_df['text_len'].min(),round(tweets_df['text_len'].mean())"
   ]
  },
  {
   "cell_type": "code",
   "execution_count": 37,
   "metadata": {},
   "outputs": [
    {
     "data": {
      "text/plain": [
       "(60, 3, 26)"
      ]
     },
     "execution_count": 37,
     "metadata": {},
     "output_type": "execute_result"
    }
   ],
   "source": [
    "tweets_df['word_count'].max(),tweets_df['word_count'].min(),round(tweets_df['word_count'].mean())"
   ]
  },
  {
   "cell_type": "code",
   "execution_count": 38,
   "metadata": {
    "scrolled": true
   },
   "outputs": [
    {
     "data": {
      "text/plain": [
       "<matplotlib.axes._subplots.AxesSubplot at 0x211d4956f88>"
      ]
     },
     "execution_count": 38,
     "metadata": {},
     "output_type": "execute_result"
    },
    {
     "data": {
      "image/png": "[encoded data removed]",
      "text/plain": [
       "<Figure size 432x288 with 1 Axes>"
      ]
     },
     "metadata": {
      "needs_background": "light"
     },
     "output_type": "display_data"
    }
   ],
   "source": [
    "tweets_df['text_len'].plot(bins=100,kind='hist',title=' Length of Tweets')\n"
   ]
  },
  {
   "cell_type": "code",
   "execution_count": 39,
   "metadata": {
    "scrolled": true
   },
   "outputs": [
    {
     "data": {
      "text/plain": [
       "<matplotlib.axes._subplots.AxesSubplot at 0x211d486cb08>"
      ]
     },
     "execution_count": 39,
     "metadata": {},
     "output_type": "execute_result"
    },
    {
     "data": {
      "image/png": "[encoded data removed]",
      "text/plain": [
       "<Figure size 432x288 with 1 Axes>"
      ]
     },
     "metadata": {
      "needs_background": "light"
     },
     "output_type": "display_data"
    }
   ],
   "source": [
    "tweets_df['word_count'].plot(bins = 100, kind = 'hist', title = 'Word Count of Tweets')"
   ]
  },
  {
   "cell_type": "markdown",
   "metadata": {},
   "source": [
    "### Sentimental Analysis"
   ]
  },
  {
   "cell_type": "code",
   "execution_count": 40,
   "metadata": {},
   "outputs": [
    {
     "name": "stderr",
     "output_type": "stream",
     "text": [
      "[nltk_data] Downloading package vader_lexicon to\n",
      "[nltk_data]     C:\\Users\\Aravind\\AppData\\Roaming\\nltk_data...\n",
      "[nltk_data]   Package vader_lexicon is already up-to-date!\n"
     ]
    }
   ],
   "source": [
    "import nltk\n",
    "nltk.download('vader_lexicon') \n",
    "from nltk.sentiment.vader import SentimentIntensityAnalyzer\n",
    "from nltk.corpus import stopwords\n",
    "from nltk.stem  import PorterStemmer\n",
    "ps = PorterStemmer()\n",
    "\n"
   ]
  },
  {
   "cell_type": "code",
   "execution_count": 41,
   "metadata": {
    "scrolled": true
   },
   "outputs": [],
   "source": [
    "for index, row in tweets_df['Text'].iteritems():\n",
    "    score = SentimentIntensityAnalyzer().polarity_scores(row)\n",
    "    if score['neg'] > score['pos']:\n",
    "        tweets_df.loc[index, \"Sentiment\"] = \"negative\"\n",
    "    elif score['pos'] > score['neg']:\n",
    "        tweets_df.loc[index, \"Sentiment\"] = \"positive\"\n",
    "    else:\n",
    "        tweets_df.loc[index, \"Sentiment\"] = \"neutral\"\n",
    "        \n",
    "    tweets_df.loc[index, 'neg'] = score['neg']\n",
    "    tweets_df.loc[index, 'neu'] = score['neu']\n",
    "    tweets_df.loc[index, 'pos'] = score['pos']\n",
    "    tweets_df.loc[index, 'compound'] = score['compound']\n",
    "    \n"
   ]
  },
  {
   "cell_type": "code",
   "execution_count": 42,
   "metadata": {},
   "outputs": [
    {
     "data": {
      "text/html": [
       "<div>\n",
       "<style scoped>\n",
       "    .dataframe tbody tr th:only-of-type {\n",
       "        vertical-align: middle;\n",
       "    }\n",
       "\n",
       "    .dataframe tbody tr th {\n",
       "        vertical-align: top;\n",
       "    }\n",
       "\n",
       "    .dataframe thead th {\n",
       "        text-align: right;\n",
       "    }\n",
       "</style>\n",
       "<table border=\"1\" class=\"dataframe\">\n",
       "  <thead>\n",
       "    <tr style=\"text-align: right;\">\n",
       "      <th></th>\n",
       "      <th>Created_at</th>\n",
       "      <th>Place</th>\n",
       "      <th>User</th>\n",
       "      <th>Text</th>\n",
       "      <th>hashtags</th>\n",
       "      <th>Cleaned_Text</th>\n",
       "      <th>text_len</th>\n",
       "      <th>word_count</th>\n",
       "      <th>Sentiment</th>\n",
       "      <th>neg</th>\n",
       "      <th>neu</th>\n",
       "      <th>pos</th>\n",
       "      <th>compound</th>\n",
       "    </tr>\n",
       "  </thead>\n",
       "  <tbody>\n",
       "    <tr>\n",
       "      <td>0</td>\n",
       "      <td>2021-11-12 15:37:15+00:00</td>\n",
       "      <td>None</td>\n",
       "      <td>Vishant Mittal</td>\n",
       "      <td>(in my best chadwick baseman voice)Get this ma...</td>\n",
       "      <td>[#PAKVSAUS, #INDVSPAK, #IPL, #BCCI, #INDIA, #A...</td>\n",
       "      <td>(in my best chadwick baseman voice)Get this ma...</td>\n",
       "      <td>123</td>\n",
       "      <td>13</td>\n",
       "      <td>positive</td>\n",
       "      <td>0.000</td>\n",
       "      <td>0.741</td>\n",
       "      <td>0.259</td>\n",
       "      <td>0.6369</td>\n",
       "    </tr>\n",
       "    <tr>\n",
       "      <td>1</td>\n",
       "      <td>2021-11-12 15:23:16+00:00</td>\n",
       "      <td>None</td>\n",
       "      <td>FirstSportz</td>\n",
       "      <td>India v Pakistan on 3️⃣1️⃣st July 🇮🇳🔥\\n\\n#Indi...</td>\n",
       "      <td>[#India, #Pakistan, #IndVsPak, #Commonwealth, ...</td>\n",
       "      <td>India v Pakistan on 3️⃣1️⃣st July 🇮🇳🔥</td>\n",
       "      <td>119</td>\n",
       "      <td>13</td>\n",
       "      <td>neutral</td>\n",
       "      <td>0.000</td>\n",
       "      <td>1.000</td>\n",
       "      <td>0.000</td>\n",
       "      <td>0.0000</td>\n",
       "    </tr>\n",
       "    <tr>\n",
       "      <td>2</td>\n",
       "      <td>2021-11-12 14:45:16+00:00</td>\n",
       "      <td>None</td>\n",
       "      <td>Samiya Javaid</td>\n",
       "      <td>#PAKVSAUS #ShaheenShahAfridi #Hasan_Ali #Babar...</td>\n",
       "      <td>[#PAKVSAUS, #ShaheenShahAfridi, #Hasan_Ali, #B...</td>\n",
       "      <td>To All Haters. To every nonsense  trol...</td>\n",
       "      <td>195</td>\n",
       "      <td>22</td>\n",
       "      <td>negative</td>\n",
       "      <td>0.228</td>\n",
       "      <td>0.772</td>\n",
       "      <td>0.000</td>\n",
       "      <td>-0.7096</td>\n",
       "    </tr>\n",
       "    <tr>\n",
       "      <td>3</td>\n",
       "      <td>2021-11-12 14:24:58+00:00</td>\n",
       "      <td>None</td>\n",
       "      <td>ShruTim Paine 🇦🇺</td>\n",
       "      <td>@CricCrazyJohns @cricketpun_duh @Carpo34 Just ...</td>\n",
       "      <td>[]</td>\n",
       "      <td>Just out of curiosity, which team were you ...</td>\n",
       "      <td>131</td>\n",
       "      <td>15</td>\n",
       "      <td>positive</td>\n",
       "      <td>0.000</td>\n",
       "      <td>0.828</td>\n",
       "      <td>0.172</td>\n",
       "      <td>0.4404</td>\n",
       "    </tr>\n",
       "    <tr>\n",
       "      <td>4</td>\n",
       "      <td>2021-11-12 14:18:58+00:00</td>\n",
       "      <td>None</td>\n",
       "      <td>rakesh murthy</td>\n",
       "      <td>@iramizraja are you still busy adding zeroes i...</td>\n",
       "      <td>[#IndVsPak, #PAKVSAUS, #T20WorldCup2021, #Worl...</td>\n",
       "      <td>are you still busy adding zeroes in that Blan...</td>\n",
       "      <td>119</td>\n",
       "      <td>16</td>\n",
       "      <td>neutral</td>\n",
       "      <td>0.000</td>\n",
       "      <td>1.000</td>\n",
       "      <td>0.000</td>\n",
       "      <td>0.0000</td>\n",
       "    </tr>\n",
       "  </tbody>\n",
       "</table>\n",
       "</div>"
      ],
      "text/plain": [
       "                 Created_at Place              User  \\\n",
       "0 2021-11-12 15:37:15+00:00  None    Vishant Mittal   \n",
       "1 2021-11-12 15:23:16+00:00  None       FirstSportz   \n",
       "2 2021-11-12 14:45:16+00:00  None     Samiya Javaid   \n",
       "3 2021-11-12 14:24:58+00:00  None  ShruTim Paine 🇦🇺   \n",
       "4 2021-11-12 14:18:58+00:00  None     rakesh murthy   \n",
       "\n",
       "                                                Text  \\\n",
       "0  (in my best chadwick baseman voice)Get this ma...   \n",
       "1  India v Pakistan on 3️⃣1️⃣st July 🇮🇳🔥\\n\\n#Indi...   \n",
       "2  #PAKVSAUS #ShaheenShahAfridi #Hasan_Ali #Babar...   \n",
       "3  @CricCrazyJohns @cricketpun_duh @Carpo34 Just ...   \n",
       "4  @iramizraja are you still busy adding zeroes i...   \n",
       "\n",
       "                                            hashtags  \\\n",
       "0  [#PAKVSAUS, #INDVSPAK, #IPL, #BCCI, #INDIA, #A...   \n",
       "1  [#India, #Pakistan, #IndVsPak, #Commonwealth, ...   \n",
       "2  [#PAKVSAUS, #ShaheenShahAfridi, #Hasan_Ali, #B...   \n",
       "3                                                 []   \n",
       "4  [#IndVsPak, #PAKVSAUS, #T20WorldCup2021, #Worl...   \n",
       "\n",
       "                                        Cleaned_Text  text_len  word_count  \\\n",
       "0  (in my best chadwick baseman voice)Get this ma...       123          13   \n",
       "1       India v Pakistan on 3️⃣1️⃣st July 🇮🇳🔥              119          13   \n",
       "2          To All Haters. To every nonsense  trol...       195          22   \n",
       "3     Just out of curiosity, which team were you ...       131          15   \n",
       "4   are you still busy adding zeroes in that Blan...       119          16   \n",
       "\n",
       "  Sentiment    neg    neu    pos  compound  \n",
       "0  positive  0.000  0.741  0.259    0.6369  \n",
       "1   neutral  0.000  1.000  0.000    0.0000  \n",
       "2  negative  0.228  0.772  0.000   -0.7096  \n",
       "3  positive  0.000  0.828  0.172    0.4404  \n",
       "4   neutral  0.000  1.000  0.000    0.0000  "
      ]
     },
     "execution_count": 42,
     "metadata": {},
     "output_type": "execute_result"
    }
   ],
   "source": [
    "tweets_df.head()"
   ]
  },
  {
   "cell_type": "code",
   "execution_count": 43,
   "metadata": {},
   "outputs": [
    {
     "name": "stdout",
     "output_type": "stream",
     "text": [
      "positive: 340 51.8%\n",
      "negative: 136 20.7%\n",
      "neutral: 180 27.4%\n"
     ]
    }
   ],
   "source": [
    "tweet_neg = tweets_df[tweets_df[\"Sentiment\"]==\"negative\"]\n",
    "tweet_neu = tweets_df[tweets_df[\"Sentiment\"] == \"neutral\"]\n",
    "tweet_pos = tweets_df[tweets_df[\"Sentiment\"] == \"positive\"]\n",
    "\n",
    "def percentage(x,y):\n",
    "    return 100*x/y\n",
    "\n",
    "pos_per = percentage(len(tweet_pos), len(tweets_df))\n",
    "neg_per = percentage(len(tweet_neg), len(tweets_df))\n",
    "neu_per = percentage(len(tweet_neu), len(tweets_df))\n",
    "\n",
    "print(\"positive: {} {}%\".format(len(tweet_pos),  format(pos_per, '.1f')))\n",
    "print(\"negative: {} {}%\".format(len(tweet_neg), format(neg_per, '.1f')))\n",
    "print(\"neutral: {} {}%\".format(len(tweet_neu),format(neu_per, '.1f')))"
   ]
  },
  {
   "cell_type": "code",
   "execution_count": 44,
   "metadata": {},
   "outputs": [
    {
     "data": {
      "text/html": [
       "<div>\n",
       "<style scoped>\n",
       "    .dataframe tbody tr th:only-of-type {\n",
       "        vertical-align: middle;\n",
       "    }\n",
       "\n",
       "    .dataframe tbody tr th {\n",
       "        vertical-align: top;\n",
       "    }\n",
       "\n",
       "    .dataframe thead th {\n",
       "        text-align: right;\n",
       "    }\n",
       "</style>\n",
       "<table border=\"1\" class=\"dataframe\">\n",
       "  <thead>\n",
       "    <tr style=\"text-align: right;\">\n",
       "      <th></th>\n",
       "      <th>Created_at</th>\n",
       "      <th>Place</th>\n",
       "      <th>User</th>\n",
       "      <th>Text</th>\n",
       "      <th>hashtags</th>\n",
       "      <th>Cleaned_Text</th>\n",
       "      <th>text_len</th>\n",
       "      <th>word_count</th>\n",
       "      <th>neg</th>\n",
       "      <th>neu</th>\n",
       "      <th>pos</th>\n",
       "      <th>compound</th>\n",
       "    </tr>\n",
       "    <tr>\n",
       "      <th>Sentiment</th>\n",
       "      <th></th>\n",
       "      <th></th>\n",
       "      <th></th>\n",
       "      <th></th>\n",
       "      <th></th>\n",
       "      <th></th>\n",
       "      <th></th>\n",
       "      <th></th>\n",
       "      <th></th>\n",
       "      <th></th>\n",
       "      <th></th>\n",
       "      <th></th>\n",
       "    </tr>\n",
       "  </thead>\n",
       "  <tbody>\n",
       "    <tr>\n",
       "      <td>negative</td>\n",
       "      <td>136</td>\n",
       "      <td>2</td>\n",
       "      <td>136</td>\n",
       "      <td>136</td>\n",
       "      <td>136</td>\n",
       "      <td>136</td>\n",
       "      <td>136</td>\n",
       "      <td>136</td>\n",
       "      <td>136</td>\n",
       "      <td>136</td>\n",
       "      <td>136</td>\n",
       "      <td>136</td>\n",
       "    </tr>\n",
       "    <tr>\n",
       "      <td>neutral</td>\n",
       "      <td>180</td>\n",
       "      <td>6</td>\n",
       "      <td>180</td>\n",
       "      <td>180</td>\n",
       "      <td>180</td>\n",
       "      <td>180</td>\n",
       "      <td>180</td>\n",
       "      <td>180</td>\n",
       "      <td>180</td>\n",
       "      <td>180</td>\n",
       "      <td>180</td>\n",
       "      <td>180</td>\n",
       "    </tr>\n",
       "    <tr>\n",
       "      <td>positive</td>\n",
       "      <td>340</td>\n",
       "      <td>13</td>\n",
       "      <td>340</td>\n",
       "      <td>340</td>\n",
       "      <td>340</td>\n",
       "      <td>340</td>\n",
       "      <td>340</td>\n",
       "      <td>340</td>\n",
       "      <td>340</td>\n",
       "      <td>340</td>\n",
       "      <td>340</td>\n",
       "      <td>340</td>\n",
       "    </tr>\n",
       "  </tbody>\n",
       "</table>\n",
       "</div>"
      ],
      "text/plain": [
       "           Created_at  Place  User  Text  hashtags  Cleaned_Text  text_len  \\\n",
       "Sentiment                                                                    \n",
       "negative          136      2   136   136       136           136       136   \n",
       "neutral           180      6   180   180       180           180       180   \n",
       "positive          340     13   340   340       340           340       340   \n",
       "\n",
       "           word_count  neg  neu  pos  compound  \n",
       "Sentiment                                       \n",
       "negative          136  136  136  136       136  \n",
       "neutral           180  180  180  180       180  \n",
       "positive          340  340  340  340       340  "
      ]
     },
     "execution_count": 44,
     "metadata": {},
     "output_type": "execute_result"
    }
   ],
   "source": [
    "tweets_df.groupby('Sentiment').count()"
   ]
  },
  {
   "cell_type": "code",
   "execution_count": 45,
   "metadata": {},
   "outputs": [
    {
     "data": {
      "text/plain": [
       "array(['negative', 'neutral', 'positive'], dtype=object)"
      ]
     },
     "execution_count": 45,
     "metadata": {},
     "output_type": "execute_result"
    }
   ],
   "source": [
    "tweets_df.groupby('Sentiment').count().index.values"
   ]
  },
  {
   "cell_type": "code",
   "execution_count": 46,
   "metadata": {},
   "outputs": [
    {
     "data": {
      "text/plain": [
       "Sentiment\n",
       "negative    136\n",
       "neutral     180\n",
       "positive    340\n",
       "dtype: int64"
      ]
     },
     "execution_count": 46,
     "metadata": {},
     "output_type": "execute_result"
    }
   ],
   "source": [
    "tweets_df.groupby('Sentiment').size()"
   ]
  },
  {
   "cell_type": "code",
   "execution_count": 47,
   "metadata": {},
   "outputs": [
    {
     "data": {
      "text/plain": [
       "array([136, 180, 340], dtype=int64)"
      ]
     },
     "execution_count": 47,
     "metadata": {},
     "output_type": "execute_result"
    }
   ],
   "source": [
    "tweets_df.groupby('Sentiment').size().values\n"
   ]
  },
  {
   "cell_type": "code",
   "execution_count": 48,
   "metadata": {},
   "outputs": [
    {
     "data": {
      "text/plain": [
       "<BarContainer object of 3 artists>"
      ]
     },
     "execution_count": 48,
     "metadata": {},
     "output_type": "execute_result"
    },
    {
     "data": {
      "image/png": "[encoded data removed]",
      "text/plain": [
       "<Figure size 432x288 with 1 Axes>"
      ]
     },
     "metadata": {
      "needs_background": "light"
     },
     "output_type": "display_data"
    }
   ],
   "source": [
    "labels = tweets_df.groupby('Sentiment').count().index.values\n",
    "values = tweets_df.groupby('Sentiment').size().values\n",
    "plt.bar(labels, values)"
   ]
  },
  {
   "cell_type": "code",
   "execution_count": 49,
   "metadata": {},
   "outputs": [
    {
     "data": {
      "image/png": "[encoded data removed]",
      "text/plain": [
       "<Figure size 432x288 with 1 Axes>"
      ]
     },
     "metadata": {},
     "output_type": "display_data"
    }
   ],
   "source": [
    "labels = ['Positive ['+format(pos_per, '.1f')+'%]', 'Neutral ['+format(neu_per,'.1f')+'%]', 'Negative ['+format(neg_per,'.1f')+'%]']\n",
    "sizes = [len(tweet_pos), len(tweet_neu), len(tweet_neg)]\n",
    "colors = ['green', 'blue', 'red']\n",
    "patches, texts = plt.pie(sizes, labels = labels, colors = colors,shadow = True, startangle = 90)\n",
    "plt.legend(labels)\n",
    "plt.title(\"Sentiment Analysis of Tweets\")\n",
    "plt.axis('equal')\n",
    "plt.show()"
   ]
  },
  {
   "cell_type": "code",
   "execution_count": 50,
   "metadata": {},
   "outputs": [],
   "source": [
    "from wordcloud import WordCloud,STOPWORDS\n",
    "\n",
    "def create_word_cloud(text):\n",
    "    stopwords = set(STOPWORDS)\n",
    "    wc = WordCloud(background_color=\"white\",max_words=3000,stopwords=stopwords,repeat=True)\n",
    "    wc.generate(str(text))\n",
    "    plt.imshow(wc,interpolation='bilinear')\n",
    "    plt.axis('off')\n",
    "    plt.show()\n",
    "    "
   ]
  },
  {
   "cell_type": "code",
   "execution_count": 51,
   "metadata": {},
   "outputs": [
    {
     "data": {
      "image/png": "[encoded data removed]",
      "text/plain": [
       "<Figure size 432x288 with 1 Axes>"
      ]
     },
     "metadata": {
      "needs_background": "light"
     },
     "output_type": "display_data"
    }
   ],
   "source": [
    "create_word_cloud(tweet_pos[\"Cleaned_Text\"].values)    "
   ]
  },
  {
   "cell_type": "code",
   "execution_count": 52,
   "metadata": {
    "scrolled": true
   },
   "outputs": [
    {
     "data": {
      "image/png": "[encoded data removed]",
      "text/plain": [
       "<Figure size 432x288 with 1 Axes>"
      ]
     },
     "metadata": {
      "needs_background": "light"
     },
     "output_type": "display_data"
    }
   ],
   "source": [
    "create_word_cloud(tweet_neg[\"Cleaned_Text\"].values)    "
   ]
  },
  {
   "cell_type": "markdown",
   "metadata": {},
   "source": [
    "### Preprocessing text "
   ]
  },
  {
   "cell_type": "code",
   "execution_count": 54,
   "metadata": {},
   "outputs": [
    {
     "data": {
      "text/html": [
       "<div>\n",
       "<style scoped>\n",
       "    .dataframe tbody tr th:only-of-type {\n",
       "        vertical-align: middle;\n",
       "    }\n",
       "\n",
       "    .dataframe tbody tr th {\n",
       "        vertical-align: top;\n",
       "    }\n",
       "\n",
       "    .dataframe thead th {\n",
       "        text-align: right;\n",
       "    }\n",
       "</style>\n",
       "<table border=\"1\" class=\"dataframe\">\n",
       "  <thead>\n",
       "    <tr style=\"text-align: right;\">\n",
       "      <th></th>\n",
       "      <th>Created_at</th>\n",
       "      <th>Place</th>\n",
       "      <th>User</th>\n",
       "      <th>Text</th>\n",
       "      <th>hashtags</th>\n",
       "      <th>Cleaned_Text</th>\n",
       "      <th>text_len</th>\n",
       "      <th>word_count</th>\n",
       "      <th>Sentiment</th>\n",
       "      <th>neg</th>\n",
       "      <th>neu</th>\n",
       "      <th>pos</th>\n",
       "      <th>compound</th>\n",
       "      <th>tokenized</th>\n",
       "      <th>nonstop</th>\n",
       "      <th>stemmed</th>\n",
       "      <th>preprocess</th>\n",
       "    </tr>\n",
       "  </thead>\n",
       "  <tbody>\n",
       "    <tr>\n",
       "      <td>0</td>\n",
       "      <td>2021-11-12 15:37:15+00:00</td>\n",
       "      <td>None</td>\n",
       "      <td>Vishant Mittal</td>\n",
       "      <td>(in my best chadwick baseman voice)Get this ma...</td>\n",
       "      <td>[#PAKVSAUS, #INDVSPAK, #IPL, #BCCI, #INDIA, #A...</td>\n",
       "      <td>(in my best chadwick baseman voice)Get this ma...</td>\n",
       "      <td>123</td>\n",
       "      <td>13</td>\n",
       "      <td>positive</td>\n",
       "      <td>0.000</td>\n",
       "      <td>0.741</td>\n",
       "      <td>0.259</td>\n",
       "      <td>0.6369</td>\n",
       "      <td>[, in, my, best, chadwick, baseman, voice, get...</td>\n",
       "      <td>[, best, chadwick, baseman, voice, get, man, i...</td>\n",
       "      <td>[, best, chadwick, baseman, voic, get, man, ip...</td>\n",
       "      <td>best chadwick baseman voic get man ipl contract</td>\n",
       "    </tr>\n",
       "    <tr>\n",
       "      <td>1</td>\n",
       "      <td>2021-11-12 15:23:16+00:00</td>\n",
       "      <td>None</td>\n",
       "      <td>FirstSportz</td>\n",
       "      <td>India v Pakistan on 3️⃣1️⃣st July 🇮🇳🔥\\n\\n#Indi...</td>\n",
       "      <td>[#India, #Pakistan, #IndVsPak, #Commonwealth, ...</td>\n",
       "      <td>India v Pakistan on 3️⃣1️⃣st July 🇮🇳🔥</td>\n",
       "      <td>119</td>\n",
       "      <td>13</td>\n",
       "      <td>neutral</td>\n",
       "      <td>0.000</td>\n",
       "      <td>1.000</td>\n",
       "      <td>0.000</td>\n",
       "      <td>0.0000</td>\n",
       "      <td>[india, v, pakistan, on, 3, 1, st, july, ]</td>\n",
       "      <td>[india, v, pakistan, 3, 1, st, july, ]</td>\n",
       "      <td>[india, v, pakistan, 3, 1, st, juli, ]</td>\n",
       "      <td>india v pakistan 3 1 st juli</td>\n",
       "    </tr>\n",
       "    <tr>\n",
       "      <td>2</td>\n",
       "      <td>2021-11-12 14:45:16+00:00</td>\n",
       "      <td>None</td>\n",
       "      <td>Samiya Javaid</td>\n",
       "      <td>#PAKVSAUS #ShaheenShahAfridi #Hasan_Ali #Babar...</td>\n",
       "      <td>[#PAKVSAUS, #ShaheenShahAfridi, #Hasan_Ali, #B...</td>\n",
       "      <td>To All Haters. To every nonsense  trol...</td>\n",
       "      <td>195</td>\n",
       "      <td>22</td>\n",
       "      <td>negative</td>\n",
       "      <td>0.228</td>\n",
       "      <td>0.772</td>\n",
       "      <td>0.000</td>\n",
       "      <td>-0.7096</td>\n",
       "      <td>[, to, all, haters, to, every, nonsense, troll...</td>\n",
       "      <td>[, haters, every, nonsense, troller, watch, hi...</td>\n",
       "      <td>[, hater, everi, nonsens, troller, watch, high...</td>\n",
       "      <td>hater everi nonsens troller watch highlight</td>\n",
       "    </tr>\n",
       "    <tr>\n",
       "      <td>3</td>\n",
       "      <td>2021-11-12 14:24:58+00:00</td>\n",
       "      <td>None</td>\n",
       "      <td>ShruTim Paine 🇦🇺</td>\n",
       "      <td>@CricCrazyJohns @cricketpun_duh @Carpo34 Just ...</td>\n",
       "      <td>[]</td>\n",
       "      <td>Just out of curiosity, which team were you ...</td>\n",
       "      <td>131</td>\n",
       "      <td>15</td>\n",
       "      <td>positive</td>\n",
       "      <td>0.000</td>\n",
       "      <td>0.828</td>\n",
       "      <td>0.172</td>\n",
       "      <td>0.4404</td>\n",
       "      <td>[, just, out, of, curiosity, which, team, were...</td>\n",
       "      <td>[, curiosity, team, supporting, indvspak, ]</td>\n",
       "      <td>[, curios, team, support, indvspak, ]</td>\n",
       "      <td>curios team support indvspak</td>\n",
       "    </tr>\n",
       "    <tr>\n",
       "      <td>4</td>\n",
       "      <td>2021-11-12 14:18:58+00:00</td>\n",
       "      <td>None</td>\n",
       "      <td>rakesh murthy</td>\n",
       "      <td>@iramizraja are you still busy adding zeroes i...</td>\n",
       "      <td>[#IndVsPak, #PAKVSAUS, #T20WorldCup2021, #Worl...</td>\n",
       "      <td>are you still busy adding zeroes in that Blan...</td>\n",
       "      <td>119</td>\n",
       "      <td>16</td>\n",
       "      <td>neutral</td>\n",
       "      <td>0.000</td>\n",
       "      <td>1.000</td>\n",
       "      <td>0.000</td>\n",
       "      <td>0.0000</td>\n",
       "      <td>[, are, you, still, busy, adding, zeroes, in, ...</td>\n",
       "      <td>[, still, busy, adding, zeroes, blank, cheque, ]</td>\n",
       "      <td>[, still, busi, ad, zero, blank, chequ, ]</td>\n",
       "      <td>still busi ad zero blank chequ</td>\n",
       "    </tr>\n",
       "  </tbody>\n",
       "</table>\n",
       "</div>"
      ],
      "text/plain": [
       "                 Created_at Place              User  \\\n",
       "0 2021-11-12 15:37:15+00:00  None    Vishant Mittal   \n",
       "1 2021-11-12 15:23:16+00:00  None       FirstSportz   \n",
       "2 2021-11-12 14:45:16+00:00  None     Samiya Javaid   \n",
       "3 2021-11-12 14:24:58+00:00  None  ShruTim Paine 🇦🇺   \n",
       "4 2021-11-12 14:18:58+00:00  None     rakesh murthy   \n",
       "\n",
       "                                                Text  \\\n",
       "0  (in my best chadwick baseman voice)Get this ma...   \n",
       "1  India v Pakistan on 3️⃣1️⃣st July 🇮🇳🔥\\n\\n#Indi...   \n",
       "2  #PAKVSAUS #ShaheenShahAfridi #Hasan_Ali #Babar...   \n",
       "3  @CricCrazyJohns @cricketpun_duh @Carpo34 Just ...   \n",
       "4  @iramizraja are you still busy adding zeroes i...   \n",
       "\n",
       "                                            hashtags  \\\n",
       "0  [#PAKVSAUS, #INDVSPAK, #IPL, #BCCI, #INDIA, #A...   \n",
       "1  [#India, #Pakistan, #IndVsPak, #Commonwealth, ...   \n",
       "2  [#PAKVSAUS, #ShaheenShahAfridi, #Hasan_Ali, #B...   \n",
       "3                                                 []   \n",
       "4  [#IndVsPak, #PAKVSAUS, #T20WorldCup2021, #Worl...   \n",
       "\n",
       "                                        Cleaned_Text  text_len  word_count  \\\n",
       "0  (in my best chadwick baseman voice)Get this ma...       123          13   \n",
       "1       India v Pakistan on 3️⃣1️⃣st July 🇮🇳🔥              119          13   \n",
       "2          To All Haters. To every nonsense  trol...       195          22   \n",
       "3     Just out of curiosity, which team were you ...       131          15   \n",
       "4   are you still busy adding zeroes in that Blan...       119          16   \n",
       "\n",
       "  Sentiment    neg    neu    pos  compound  \\\n",
       "0  positive  0.000  0.741  0.259    0.6369   \n",
       "1   neutral  0.000  1.000  0.000    0.0000   \n",
       "2  negative  0.228  0.772  0.000   -0.7096   \n",
       "3  positive  0.000  0.828  0.172    0.4404   \n",
       "4   neutral  0.000  1.000  0.000    0.0000   \n",
       "\n",
       "                                           tokenized  \\\n",
       "0  [, in, my, best, chadwick, baseman, voice, get...   \n",
       "1         [india, v, pakistan, on, 3, 1, st, july, ]   \n",
       "2  [, to, all, haters, to, every, nonsense, troll...   \n",
       "3  [, just, out, of, curiosity, which, team, were...   \n",
       "4  [, are, you, still, busy, adding, zeroes, in, ...   \n",
       "\n",
       "                                             nonstop  \\\n",
       "0  [, best, chadwick, baseman, voice, get, man, i...   \n",
       "1             [india, v, pakistan, 3, 1, st, july, ]   \n",
       "2  [, haters, every, nonsense, troller, watch, hi...   \n",
       "3        [, curiosity, team, supporting, indvspak, ]   \n",
       "4   [, still, busy, adding, zeroes, blank, cheque, ]   \n",
       "\n",
       "                                             stemmed  \\\n",
       "0  [, best, chadwick, baseman, voic, get, man, ip...   \n",
       "1             [india, v, pakistan, 3, 1, st, juli, ]   \n",
       "2  [, hater, everi, nonsens, troller, watch, high...   \n",
       "3              [, curios, team, support, indvspak, ]   \n",
       "4          [, still, busi, ad, zero, blank, chequ, ]   \n",
       "\n",
       "                                          preprocess  \n",
       "0   best chadwick baseman voic get man ipl contract   \n",
       "1                      india v pakistan 3 1 st juli   \n",
       "2       hater everi nonsens troller watch highlight   \n",
       "3                      curios team support indvspak   \n",
       "4                    still busi ad zero blank chequ   "
      ]
     },
     "execution_count": 54,
     "metadata": {},
     "output_type": "execute_result"
    }
   ],
   "source": [
    "#Apply tokenization\n",
    "def tokenization(text):\n",
    "    text = re.split('\\W+', text)\n",
    "    return text\n",
    "\n",
    "tweets_df['tokenized'] = tweets_df['Cleaned_Text'].apply(lambda x: tokenization(x.lower()))\n",
    "\n",
    "#Removing Stop words\n",
    "stopword = nltk.corpus.stopwords.words('english')\n",
    "def remove_stopwords(text):\n",
    "    text = [word for word in text if word not in stopword]\n",
    "    return text\n",
    "\n",
    "tweets_df['nonstop'] = tweets_df['tokenized'].apply(lambda x:remove_stopwords(x))\n",
    "\n",
    "#Stemmer\n",
    "ps = nltk.PorterStemmer()\n",
    "def stemming(text):\n",
    "    text = [ps.stem(word) for word in text]\n",
    "    return text\n",
    "\n",
    "tweets_df['stemmed'] = tweets_df['nonstop'].apply(lambda x: stemming(x))\n",
    "\n",
    "#join all the words to make a final text field\n",
    "tweets_df['preprocess'] = tweets_df['stemmed'].apply(lambda x: ' '.join(x))\n",
    "tweets_df.head()"
   ]
  },
  {
   "cell_type": "code",
   "execution_count": 63,
   "metadata": {},
   "outputs": [],
   "source": [
    "from sklearn.feature_extraction.text import CountVectorizer\n",
    "cv = CountVectorizer()\n",
    "CountVector = cv.fit_transform(tweets_df['preprocess'])\n"
   ]
  },
  {
   "cell_type": "code",
   "execution_count": 64,
   "metadata": {},
   "outputs": [
    {
     "name": "stdout",
     "output_type": "stream",
     "text": [
      "656 Number of tweets have 2109\n"
     ]
    }
   ],
   "source": [
    "print('{} Number of tweets have {}'.format(CountVector.shape[0],CountVector.shape[1]))"
   ]
  },
  {
   "cell_type": "code",
   "execution_count": 66,
   "metadata": {},
   "outputs": [
    {
     "data": {
      "text/html": [
       "<div>\n",
       "<style scoped>\n",
       "    .dataframe tbody tr th:only-of-type {\n",
       "        vertical-align: middle;\n",
       "    }\n",
       "\n",
       "    .dataframe tbody tr th {\n",
       "        vertical-align: top;\n",
       "    }\n",
       "\n",
       "    .dataframe thead th {\n",
       "        text-align: right;\n",
       "    }\n",
       "</style>\n",
       "<table border=\"1\" class=\"dataframe\">\n",
       "  <thead>\n",
       "    <tr style=\"text-align: right;\">\n",
       "      <th></th>\n",
       "      <th>01</th>\n",
       "      <th>10</th>\n",
       "      <th>100</th>\n",
       "      <th>10run</th>\n",
       "      <th>110</th>\n",
       "      <th>12</th>\n",
       "      <th>125</th>\n",
       "      <th>12pm</th>\n",
       "      <th>12run</th>\n",
       "      <th>12th</th>\n",
       "      <th>...</th>\n",
       "      <th>zimbabw</th>\n",
       "      <th>zyada</th>\n",
       "      <th>अफ</th>\n",
       "      <th>उसक</th>\n",
       "      <th>चल</th>\n",
       "      <th>नद</th>\n",
       "      <th>पत</th>\n",
       "      <th>હવ</th>\n",
       "      <th>𝗠𝗢𝗥𝗘</th>\n",
       "      <th>𝗥𝗘𝗔𝗗</th>\n",
       "    </tr>\n",
       "  </thead>\n",
       "  <tbody>\n",
       "    <tr>\n",
       "      <td>0</td>\n",
       "      <td>0</td>\n",
       "      <td>0</td>\n",
       "      <td>0</td>\n",
       "      <td>0</td>\n",
       "      <td>0</td>\n",
       "      <td>0</td>\n",
       "      <td>0</td>\n",
       "      <td>0</td>\n",
       "      <td>0</td>\n",
       "      <td>0</td>\n",
       "      <td>...</td>\n",
       "      <td>0</td>\n",
       "      <td>0</td>\n",
       "      <td>0</td>\n",
       "      <td>0</td>\n",
       "      <td>0</td>\n",
       "      <td>0</td>\n",
       "      <td>0</td>\n",
       "      <td>0</td>\n",
       "      <td>0</td>\n",
       "      <td>0</td>\n",
       "    </tr>\n",
       "    <tr>\n",
       "      <td>1</td>\n",
       "      <td>0</td>\n",
       "      <td>0</td>\n",
       "      <td>0</td>\n",
       "      <td>0</td>\n",
       "      <td>0</td>\n",
       "      <td>0</td>\n",
       "      <td>0</td>\n",
       "      <td>0</td>\n",
       "      <td>0</td>\n",
       "      <td>0</td>\n",
       "      <td>...</td>\n",
       "      <td>0</td>\n",
       "      <td>0</td>\n",
       "      <td>0</td>\n",
       "      <td>0</td>\n",
       "      <td>0</td>\n",
       "      <td>0</td>\n",
       "      <td>0</td>\n",
       "      <td>0</td>\n",
       "      <td>0</td>\n",
       "      <td>0</td>\n",
       "    </tr>\n",
       "    <tr>\n",
       "      <td>2</td>\n",
       "      <td>0</td>\n",
       "      <td>0</td>\n",
       "      <td>0</td>\n",
       "      <td>0</td>\n",
       "      <td>0</td>\n",
       "      <td>0</td>\n",
       "      <td>0</td>\n",
       "      <td>0</td>\n",
       "      <td>0</td>\n",
       "      <td>0</td>\n",
       "      <td>...</td>\n",
       "      <td>0</td>\n",
       "      <td>0</td>\n",
       "      <td>0</td>\n",
       "      <td>0</td>\n",
       "      <td>0</td>\n",
       "      <td>0</td>\n",
       "      <td>0</td>\n",
       "      <td>0</td>\n",
       "      <td>0</td>\n",
       "      <td>0</td>\n",
       "    </tr>\n",
       "    <tr>\n",
       "      <td>3</td>\n",
       "      <td>0</td>\n",
       "      <td>0</td>\n",
       "      <td>0</td>\n",
       "      <td>0</td>\n",
       "      <td>0</td>\n",
       "      <td>0</td>\n",
       "      <td>0</td>\n",
       "      <td>0</td>\n",
       "      <td>0</td>\n",
       "      <td>0</td>\n",
       "      <td>...</td>\n",
       "      <td>0</td>\n",
       "      <td>0</td>\n",
       "      <td>0</td>\n",
       "      <td>0</td>\n",
       "      <td>0</td>\n",
       "      <td>0</td>\n",
       "      <td>0</td>\n",
       "      <td>0</td>\n",
       "      <td>0</td>\n",
       "      <td>0</td>\n",
       "    </tr>\n",
       "    <tr>\n",
       "      <td>4</td>\n",
       "      <td>0</td>\n",
       "      <td>0</td>\n",
       "      <td>0</td>\n",
       "      <td>0</td>\n",
       "      <td>0</td>\n",
       "      <td>0</td>\n",
       "      <td>0</td>\n",
       "      <td>0</td>\n",
       "      <td>0</td>\n",
       "      <td>0</td>\n",
       "      <td>...</td>\n",
       "      <td>0</td>\n",
       "      <td>0</td>\n",
       "      <td>0</td>\n",
       "      <td>0</td>\n",
       "      <td>0</td>\n",
       "      <td>0</td>\n",
       "      <td>0</td>\n",
       "      <td>0</td>\n",
       "      <td>0</td>\n",
       "      <td>0</td>\n",
       "    </tr>\n",
       "    <tr>\n",
       "      <td>...</td>\n",
       "      <td>...</td>\n",
       "      <td>...</td>\n",
       "      <td>...</td>\n",
       "      <td>...</td>\n",
       "      <td>...</td>\n",
       "      <td>...</td>\n",
       "      <td>...</td>\n",
       "      <td>...</td>\n",
       "      <td>...</td>\n",
       "      <td>...</td>\n",
       "      <td>...</td>\n",
       "      <td>...</td>\n",
       "      <td>...</td>\n",
       "      <td>...</td>\n",
       "      <td>...</td>\n",
       "      <td>...</td>\n",
       "      <td>...</td>\n",
       "      <td>...</td>\n",
       "      <td>...</td>\n",
       "      <td>...</td>\n",
       "      <td>...</td>\n",
       "    </tr>\n",
       "    <tr>\n",
       "      <td>651</td>\n",
       "      <td>0</td>\n",
       "      <td>0</td>\n",
       "      <td>0</td>\n",
       "      <td>0</td>\n",
       "      <td>0</td>\n",
       "      <td>0</td>\n",
       "      <td>0</td>\n",
       "      <td>0</td>\n",
       "      <td>0</td>\n",
       "      <td>0</td>\n",
       "      <td>...</td>\n",
       "      <td>0</td>\n",
       "      <td>0</td>\n",
       "      <td>0</td>\n",
       "      <td>0</td>\n",
       "      <td>0</td>\n",
       "      <td>0</td>\n",
       "      <td>0</td>\n",
       "      <td>0</td>\n",
       "      <td>0</td>\n",
       "      <td>0</td>\n",
       "    </tr>\n",
       "    <tr>\n",
       "      <td>652</td>\n",
       "      <td>0</td>\n",
       "      <td>0</td>\n",
       "      <td>0</td>\n",
       "      <td>0</td>\n",
       "      <td>0</td>\n",
       "      <td>0</td>\n",
       "      <td>0</td>\n",
       "      <td>0</td>\n",
       "      <td>0</td>\n",
       "      <td>0</td>\n",
       "      <td>...</td>\n",
       "      <td>0</td>\n",
       "      <td>0</td>\n",
       "      <td>0</td>\n",
       "      <td>0</td>\n",
       "      <td>0</td>\n",
       "      <td>0</td>\n",
       "      <td>0</td>\n",
       "      <td>0</td>\n",
       "      <td>0</td>\n",
       "      <td>0</td>\n",
       "    </tr>\n",
       "    <tr>\n",
       "      <td>653</td>\n",
       "      <td>0</td>\n",
       "      <td>0</td>\n",
       "      <td>0</td>\n",
       "      <td>0</td>\n",
       "      <td>0</td>\n",
       "      <td>0</td>\n",
       "      <td>0</td>\n",
       "      <td>0</td>\n",
       "      <td>0</td>\n",
       "      <td>0</td>\n",
       "      <td>...</td>\n",
       "      <td>0</td>\n",
       "      <td>0</td>\n",
       "      <td>0</td>\n",
       "      <td>0</td>\n",
       "      <td>0</td>\n",
       "      <td>0</td>\n",
       "      <td>0</td>\n",
       "      <td>0</td>\n",
       "      <td>0</td>\n",
       "      <td>0</td>\n",
       "    </tr>\n",
       "    <tr>\n",
       "      <td>654</td>\n",
       "      <td>0</td>\n",
       "      <td>0</td>\n",
       "      <td>0</td>\n",
       "      <td>0</td>\n",
       "      <td>1</td>\n",
       "      <td>0</td>\n",
       "      <td>0</td>\n",
       "      <td>0</td>\n",
       "      <td>0</td>\n",
       "      <td>0</td>\n",
       "      <td>...</td>\n",
       "      <td>0</td>\n",
       "      <td>0</td>\n",
       "      <td>0</td>\n",
       "      <td>0</td>\n",
       "      <td>0</td>\n",
       "      <td>0</td>\n",
       "      <td>0</td>\n",
       "      <td>0</td>\n",
       "      <td>0</td>\n",
       "      <td>0</td>\n",
       "    </tr>\n",
       "    <tr>\n",
       "      <td>655</td>\n",
       "      <td>0</td>\n",
       "      <td>0</td>\n",
       "      <td>0</td>\n",
       "      <td>0</td>\n",
       "      <td>0</td>\n",
       "      <td>0</td>\n",
       "      <td>0</td>\n",
       "      <td>0</td>\n",
       "      <td>0</td>\n",
       "      <td>0</td>\n",
       "      <td>...</td>\n",
       "      <td>0</td>\n",
       "      <td>0</td>\n",
       "      <td>0</td>\n",
       "      <td>0</td>\n",
       "      <td>0</td>\n",
       "      <td>0</td>\n",
       "      <td>0</td>\n",
       "      <td>0</td>\n",
       "      <td>0</td>\n",
       "      <td>0</td>\n",
       "    </tr>\n",
       "  </tbody>\n",
       "</table>\n",
       "<p>656 rows × 2109 columns</p>\n",
       "</div>"
      ],
      "text/plain": [
       "     01  10  100  10run  110  12  125  12pm  12run  12th  ...  zimbabw  zyada  \\\n",
       "0     0   0    0      0    0   0    0     0      0     0  ...        0      0   \n",
       "1     0   0    0      0    0   0    0     0      0     0  ...        0      0   \n",
       "2     0   0    0      0    0   0    0     0      0     0  ...        0      0   \n",
       "3     0   0    0      0    0   0    0     0      0     0  ...        0      0   \n",
       "4     0   0    0      0    0   0    0     0      0     0  ...        0      0   \n",
       "..   ..  ..  ...    ...  ...  ..  ...   ...    ...   ...  ...      ...    ...   \n",
       "651   0   0    0      0    0   0    0     0      0     0  ...        0      0   \n",
       "652   0   0    0      0    0   0    0     0      0     0  ...        0      0   \n",
       "653   0   0    0      0    0   0    0     0      0     0  ...        0      0   \n",
       "654   0   0    0      0    1   0    0     0      0     0  ...        0      0   \n",
       "655   0   0    0      0    0   0    0     0      0     0  ...        0      0   \n",
       "\n",
       "     अफ  उसक  चल  नद  पत  હવ  𝗠𝗢𝗥𝗘  𝗥𝗘𝗔𝗗  \n",
       "0     0    0   0   0   0   0     0     0  \n",
       "1     0    0   0   0   0   0     0     0  \n",
       "2     0    0   0   0   0   0     0     0  \n",
       "3     0    0   0   0   0   0     0     0  \n",
       "4     0    0   0   0   0   0     0     0  \n",
       "..   ..  ...  ..  ..  ..  ..   ...   ...  \n",
       "651   0    0   0   0   0   0     0     0  \n",
       "652   0    0   0   0   0   0     0     0  \n",
       "653   0    0   0   0   0   0     0     0  \n",
       "654   0    0   0   0   0   0     0     0  \n",
       "655   0    0   0   0   0   0     0     0  \n",
       "\n",
       "[656 rows x 2109 columns]"
      ]
     },
     "execution_count": 66,
     "metadata": {},
     "output_type": "execute_result"
    }
   ],
   "source": [
    "count_vect_df = pd.DataFrame(CountVector.toarray(), columns = cv.get_feature_names())\n",
    "count_vect_df"
   ]
  },
  {
   "cell_type": "code",
   "execution_count": 67,
   "metadata": {
    "scrolled": true
   },
   "outputs": [
    {
     "data": {
      "text/html": [
       "<div>\n",
       "<style scoped>\n",
       "    .dataframe tbody tr th:only-of-type {\n",
       "        vertical-align: middle;\n",
       "    }\n",
       "\n",
       "    .dataframe tbody tr th {\n",
       "        vertical-align: top;\n",
       "    }\n",
       "\n",
       "    .dataframe thead th {\n",
       "        text-align: right;\n",
       "    }\n",
       "</style>\n",
       "<table border=\"1\" class=\"dataframe\">\n",
       "  <thead>\n",
       "    <tr style=\"text-align: right;\">\n",
       "      <th></th>\n",
       "      <th>0</th>\n",
       "    </tr>\n",
       "  </thead>\n",
       "  <tbody>\n",
       "    <tr>\n",
       "      <td>match</td>\n",
       "      <td>315</td>\n",
       "    </tr>\n",
       "    <tr>\n",
       "      <td>india</td>\n",
       "      <td>181</td>\n",
       "    </tr>\n",
       "    <tr>\n",
       "      <td>indvspak</td>\n",
       "      <td>127</td>\n",
       "    </tr>\n",
       "    <tr>\n",
       "      <td>team</td>\n",
       "      <td>104</td>\n",
       "    </tr>\n",
       "    <tr>\n",
       "      <td>pakistan</td>\n",
       "      <td>103</td>\n",
       "    </tr>\n",
       "    <tr>\n",
       "      <td>final</td>\n",
       "      <td>98</td>\n",
       "    </tr>\n",
       "    <tr>\n",
       "      <td>world</td>\n",
       "      <td>69</td>\n",
       "    </tr>\n",
       "    <tr>\n",
       "      <td>win</td>\n",
       "      <td>64</td>\n",
       "    </tr>\n",
       "    <tr>\n",
       "      <td>fix</td>\n",
       "      <td>63</td>\n",
       "    </tr>\n",
       "    <tr>\n",
       "      <td>cup</td>\n",
       "      <td>56</td>\n",
       "    </tr>\n",
       "  </tbody>\n",
       "</table>\n",
       "</div>"
      ],
      "text/plain": [
       "            0\n",
       "match     315\n",
       "india     181\n",
       "indvspak  127\n",
       "team      104\n",
       "pakistan  103\n",
       "final      98\n",
       "world      69\n",
       "win        64\n",
       "fix        63\n",
       "cup        56"
      ]
     },
     "execution_count": 67,
     "metadata": {},
     "output_type": "execute_result"
    }
   ],
   "source": [
    "#most frequently used words in the tweets\n",
    "counts = pd.DataFrame(count_vect_df.sum())\n",
    "count_df = counts.sort_values(0, ascending = False).head(10)\n",
    "count_df"
   ]
  },
  {
   "cell_type": "code",
   "execution_count": null,
   "metadata": {},
   "outputs": [],
   "source": []
  },
  {
   "cell_type": "code",
   "execution_count": 68,
   "metadata": {},
   "outputs": [
    {
     "data": {
      "text/plain": [
       "Text(0.5, 1.0, 'Top 20 Most frequently used words in the tweets')"
      ]
     },
     "execution_count": 68,
     "metadata": {},
     "output_type": "execute_result"
    },
    {
     "data": {
      "image/png": "[encoded data removed]",
      "text/plain": [
       "<Figure size 432x288 with 1 Axes>"
      ]
     },
     "metadata": {
      "needs_background": "light"
     },
     "output_type": "display_data"
    }
   ],
   "source": [
    "#create a bar graph of most frequently used words\n",
    "ind = count_df.index\n",
    "val = [item for sublist in count_df.values for item in sublist]\n",
    "plt.bar(ind, val)\n",
    "plt.xticks(rotation = 90)\n",
    "plt.title('Top 20 Most frequently used words in the tweets')"
   ]
  }
 ],
 "metadata": {
  "kernelspec": {
   "display_name": "Python 3",
   "language": "python",
   "name": "python3"
  },
  "language_info": {
   "codemirror_mode": {
    "name": "ipython",
    "version": 3
   },
   "file_extension": ".py",
   "mimetype": "text/x-python",
   "name": "python",
   "nbconvert_exporter": "python",
   "pygments_lexer": "ipython3",
   "version": "3.7.4"
  }
 },
 "nbformat": 4,
 "nbformat_minor": 2
}
